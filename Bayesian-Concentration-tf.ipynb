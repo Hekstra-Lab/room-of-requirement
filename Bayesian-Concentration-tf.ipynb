{
 "cells": [
  {
   "cell_type": "markdown",
   "metadata": {},
   "source": [
    "### Bayesian inference of concentration from dilution series\n",
    "\n",
    "The linear model that this notebook is based on is the Beer-Lambert law from chemistry. \n",
    "It says that the spectral absorption of a solution can be written in terms of the molar extinction coefficient, $\\epsilon_i$. Simply,\n",
    "\n",
    "$$\n",
    "A = l\\epsilon c,\n",
    "$$\n",
    "\n",
    "where A is the absoprtion of a solution of molar concentration, $c$ with molar extinction coefficient $\\epsilon$ over a path length $l$.\n",
    "The goal is go use this relationship to determine the concentration of a sample with a known extinction coefficient. \n",
    "This can be achieved by creating a dilution series of the sample and measuring the absorbance for each dilution. \n",
    "The dilution factor of a given sample is\n",
    "$$\n",
    "D = \\frac {V_S + V_P} {V_P}\n",
    "$$\n",
    "Where $V_S$ is the volume of solvent into which $V_P$ of the original protein sample has been dissolved.\n",
    "Each dilution then constrains the estimated concentration of the original sample. \n",
    "$$\n",
    "\\hat A_i = \\frac {l\\epsilon \\hat c} {D_i}\n",
    "$$\n",
    "\n",
    "This notebook models the observed data as\n",
    "$$\\begin{align}\n",
    "\\hat c &\\sim \\mathcal{N} (100, 50)\\\\\n",
    "df &\\sim HalfNormal(10) \\\\\n",
    "A^{obs}_i &\\sim StudentT(df, loc = \\hat A_i, scale=fractional\\_prior\\_error \\cdot \\hat A_i).\n",
    "\\end{align}$$\n",
    "The measurement_error should be a credible estimate for the accuracy of your instrument's absorbance measurement error. \n"
   ]
  },
  {
   "cell_type": "code",
   "execution_count": 1,
   "metadata": {},
   "outputs": [
    {
     "name": "stdout",
     "output_type": "stream",
     "text": [
      "Populating the interactive namespace from numpy and matplotlib\n"
     ]
    }
   ],
   "source": [
    "%pylab inline\n",
    "import tensorflow as tf\n",
    "import tensorflow_probability as tfp\n",
    "from tensorflow_probability import edward2 as ed"
   ]
  },
  {
   "cell_type": "markdown",
   "metadata": {},
   "source": [
    "# Enter the data\n",
    "X = dilution factor\n",
    "Y = nanodrop absorbance reading\n"
   ]
  },
  {
   "cell_type": "code",
   "execution_count": 63,
   "metadata": {},
   "outputs": [
    {
     "data": {
      "image/png": "[encoded data removed]",
      "text/plain": [
       "<Figure size 432x288 with 1 Axes>"
      ]
     },
     "metadata": {
      "needs_background": "light"
     },
     "output_type": "display_data"
    }
   ],
   "source": [
    "#here are the coefficients for eGFP @ 488 nm\n",
    "epsilon = 56000. #extinction (per Molar per cm)\n",
    "mw = 26941.48  #molecular weight (g/mol)\n",
    "\n",
    "\n",
    "#Dilution factor\n",
    "D = 1./np.array([\n",
    "    2,\n",
    "    5,\n",
    "    10,\n",
    "    20,\n",
    "    40,\n",
    "    60,\n",
    "    80,\n",
    "    100,\n",
    "    120,\n",
    "    160,\n",
    "    200,\n",
    "    240,\n",
    "    260,\n",
    "    300,\n",
    "    320,\n",
    "    360,\n",
    "    400\n",
    "])\n",
    "\n",
    "Y = np.array([\n",
    "    10.71,\n",
    "    22.76,\n",
    "    20.17,\n",
    "    9.45,\n",
    "    5.06,\n",
    "    3.38,\n",
    "    2.54,\n",
    "    1.92,\n",
    "    1.68,\n",
    "    1.28,\n",
    "    .93,\n",
    "    .79,\n",
    "    .68,\n",
    "    .52,\n",
    "    .52,\n",
    "    .56,\n",
    "    .41\n",
    "])\n",
    "\n",
    "\n",
    "\n",
    "plt.plot(D, Y,'ko-')\n",
    "plt.xlabel('Dilution')\n",
    "plt.ylabel('Absorbance (AU)')\n",
    "plt.show()\n",
    "\n"
   ]
  },
  {
   "cell_type": "code",
   "execution_count": 64,
   "metadata": {
    "scrolled": false
   },
   "outputs": [
    {
     "name": "stdout",
     "output_type": "stream",
     "text": [
      "Acceptance rate: 99.5\n"
     ]
    }
   ],
   "source": [
    "#fractional error of nanodrop\n",
    "nanodrop_error_scale = 0.05\n",
    "\n",
    "def regression(D):\n",
    "    df = ed.HalfNormal(10, name='df')\n",
    "    Chat = ed.Normal(100, 50., name='Chat')\n",
    "    Ahat = epsilon*Chat*D/mw\n",
    "    predictions = ed.StudentT(\n",
    "        df,\n",
    "        Ahat,\n",
    "        nanodrop_error_scale*Ahat,\n",
    "        name=\"predictions\"\n",
    "    )\n",
    "    return predictions\n",
    "\n",
    "log_joint = ed.make_log_joint_fn(regression)\n",
    "\n",
    "def target_log_prob_fn(Chat, df):\n",
    "  return log_joint(\n",
    "      D=D,\n",
    "      df = df,\n",
    "      Chat=Chat,\n",
    "      predictions=Y,\n",
    "  )\n",
    "\n",
    "num_results = int(10e3)\n",
    "n_burnin = int(5e3)\n",
    "step_size = 0.1\n",
    "num_leapfrog_steps = 10\n",
    "\n",
    "kernel = tfp.mcmc.HamiltonianMonteCarlo(\n",
    "    target_log_prob_fn=target_log_prob_fn,\n",
    "    step_size=step_size,\n",
    "    num_leapfrog_steps=num_leapfrog_steps,\n",
    ")\n",
    "\n",
    "states, kernel_results = tfp.mcmc.sample_chain(\n",
    "    num_results=num_results,\n",
    "    num_burnin_steps=n_burnin,\n",
    "    kernel=kernel,\n",
    "    current_state = [\n",
    "        100.,\n",
    "        4.,\n",
    "    ]\n",
    ")\n",
    "\n",
    "with tf.Session() as sess:\n",
    "    [\n",
    "        states_,\n",
    "        is_accepted,\n",
    "    ] = sess.run([\n",
    "        states, \n",
    "        kernel_results.is_accepted\n",
    "    ])\n",
    "\n",
    "samples = [i[n_burnin:] for i in states_]\n",
    "accepted_samples = is_accepted[n_burnin:]\n",
    "print('Acceptance rate: {:0.1f}'.format(100*np.mean(accepted_samples)))\n",
    "\n"
   ]
  },
  {
   "cell_type": "code",
   "execution_count": 89,
   "metadata": {},
   "outputs": [
    {
     "name": "stdout",
     "output_type": "stream",
     "text": [
      "\n",
      "Posterior sample concentration distribution (mg/ml)\n",
      "      mean: 93.84\n",
      "    median: 93.89\n",
      "   95 % CI: (90.15 , 97.39)\n",
      "\n",
      "\n",
      "Posterior degrees of freedom\n",
      "      mean: 1.27\n",
      "    median: 1.20\n",
      "   95 % CI: (0.57 , 97.39)\n",
      "\n"
     ]
    },
    {
     "data": {
      "image/png": "[encoded data removed]",
      "text/plain": [
       "<Figure size 432x288 with 1 Axes>"
      ]
     },
     "metadata": {
      "needs_background": "light"
     },
     "output_type": "display_data"
    },
    {
     "data": {
      "image/png": "[encoded data removed]",
      "text/plain": [
       "<Figure size 432x288 with 1 Axes>"
      ]
     },
     "metadata": {
      "needs_background": "light"
     },
     "output_type": "display_data"
    }
   ],
   "source": [
    "plt.figure()\n",
    "_ = hist(samples[0], 100, color='k')\n",
    "plt.axvline(np.median(samples[0]), linestyle='--', color='r')\n",
    "plt.axvline(np.percentile(samples[0], 2.5), color='grey')\n",
    "plt.axvline(np.percentile(samples[0], 97.5), color='grey')\n",
    "plt.title(\"Posterior Distribution\")\n",
    "plt.xlabel(\"Concentration (mg/ml)\")\n",
    "plt.ylabel(\"Samples\")\n",
    "\n",
    "plt.figure()\n",
    "_ = hist(samples[1], 100, color='k')\n",
    "plt.axvline(np.median(samples[1]), linestyle='--', color='r')\n",
    "plt.axvline(np.percentile(samples[1], 2.5), color='grey')\n",
    "plt.axvline(np.percentile(samples[1], 97.5), color='grey')\n",
    "plt.title(\"Posterior Distribution\")\n",
    "plt.xlabel(\"T-Distribution Degrees of Freedom\")\n",
    "plt.ylabel(\"Samples\")\n",
    "\n",
    "\n",
    "message = f\"\"\"\n",
    "Posterior sample concentration distribution (mg/ml)\n",
    "      mean: {np.mean(samples[0]):0.2f}\n",
    "    median: {np.median(samples[0]):0.2f}\n",
    "   95 % CI: ({np.percentile(samples[0], 2.5):0.2f} , {np.percentile(samples[0], 97.5):0.2f})\n",
    "\"\"\"\n",
    "print(message)\n",
    "\n",
    "message = f\"\"\"\n",
    "Posterior degrees of freedom\n",
    "      mean: {np.mean(samples[1]):0.2f}\n",
    "    median: {np.median(samples[1]):0.2f}\n",
    "   95 % CI: ({np.percentile(samples[1], 2.5):0.2f} , {np.percentile(samples[0], 97.5):0.2f})\n",
    "\"\"\"\n",
    "print(message)"
   ]
  }
 ],
 "metadata": {
  "kernelspec": {
   "display_name": "Python 3",
   "language": "python",
   "name": "python3"
  },
  "language_info": {
   "codemirror_mode": {
    "name": "ipython",
    "version": 3
   },
   "file_extension": ".py",
   "mimetype": "text/x-python",
   "name": "python",
   "nbconvert_exporter": "python",
   "pygments_lexer": "ipython3",
   "version": "3.7.1"
  }
 },
 "nbformat": 4,
 "nbformat_minor": 2
}
