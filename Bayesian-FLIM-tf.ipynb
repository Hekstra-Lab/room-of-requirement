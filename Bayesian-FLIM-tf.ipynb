{
 "cells": [
  {
   "cell_type": "markdown",
   "metadata": {},
   "source": [
    "### Model for fitting metabolic imaging data\n",
    "\n",
    "$$\n",
    "\\sigma_1 = 2 (ns) \\\\\n",
    "\\sigma_2 = .2 (ns) \\\\\n",
    "f\\sim U(0, 1) \\\\\n",
    "\\tau_1 \\sim \\mathcal{HN}(\\sigma_1) \\\\\n",
    "\\tau_2 \\sim \\mathcal{HN}(\\sigma_2) \\\\\n",
    "A \\sim \\mathcal{N}(max(Y_{obs}), \\frac {max(Y_{obs})} {2}) \\\\\n",
    "d \\sim U(0, median(Y_{obs})) \\\\\n",
    "Y \\sim StudentT(df, \\hat{Y}, scale) \\\\\n",
    "df \\sim \\mathcal{HN} (5) \\\\\n",
    "scale \\sim \\mathcal{HN}(c \\hat{Y}) \\\\\n",
    "c=0.1 \\\\\n",
    "\\hat{Y} = IRF \\otimes \\left[ A\\left(fe^{-\\frac{t}{\\tau_1}} + (1-f)e^{-\\frac{t}{\\tau_2}}\\right) + d \\right]\\\\\n",
    "$$"
   ]
  }
 ],
 "metadata": {
  "kernelspec": {
   "display_name": "Python 3",
   "language": "python",
   "name": "python3"
  },
  "language_info": {
   "codemirror_mode": {
    "name": "ipython",
    "version": 3
   },
   "file_extension": ".py",
   "mimetype": "text/x-python",
   "name": "python",
   "nbconvert_exporter": "python",
   "pygments_lexer": "ipython3",
   "version": "3.7.1"
  }
 },
 "nbformat": 4,
 "nbformat_minor": 2
}
