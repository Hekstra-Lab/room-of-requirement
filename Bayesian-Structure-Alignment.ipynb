{
 "cells": [
  {
   "cell_type": "markdown",
   "metadata": {},
   "source": [
    "### Implementation of Bayesian structure alignment\n",
    "\n",
    "The goal of this notebook is to implement an algorithm to align two protein structures. This work is based heavily on the Pyro implementation of this problem published by Moreta et al (https://www.biorxiv.org/content/early/2019/06/04/575431.full.pdf). "
   ]
  },
  {
   "cell_type": "code",
   "execution_count": 122,
   "metadata": {},
   "outputs": [
    {
     "name": "stdout",
     "output_type": "stream",
     "text": [
      "Populating the interactive namespace from numpy and matplotlib\n"
     ]
    },
    {
     "name": "stderr",
     "output_type": "stream",
     "text": [
      "/Users/jgreisman/anaconda2/envs/md/lib/python3.6/site-packages/IPython/core/magics/pylab.py:160: UserWarning: pylab import has clobbered these variables: ['dist']\n",
      "`%matplotlib` prevents importing * from pylab and numpy\n",
      "  \"\\n`%matplotlib` prevents importing * from pylab and numpy\"\n"
     ]
    }
   ],
   "source": [
    "%pylab inline\n",
    "\n",
    "import torch\n",
    "import pyro\n",
    "import pyro.distributions as dist\n",
    "from pyro.infer import EmpiricalMarginal, SVI, TracePredictive\n",
    "from pyro.infer.mcmc import MCMC, NUTS"
   ]
  },
  {
   "cell_type": "code",
   "execution_count": 2,
   "metadata": {},
   "outputs": [],
   "source": [
    "atoms = 50\n",
    "iters = 1000\n",
    "X1 = np.random.random((atoms, 3))\n",
    "X2 = X1 + np.random.normal(0, 0.01, (atoms, 3))"
   ]
  },
  {
   "cell_type": "code",
   "execution_count": 3,
   "metadata": {},
   "outputs": [],
   "source": [
    "X1,X2 = torch.tensor(X1, dtype=torch.float32), torch.tensor(X2, dtype=torch.float32)"
   ]
  },
  {
   "cell_type": "code",
   "execution_count": 123,
   "metadata": {},
   "outputs": [],
   "source": [
    "def u_to_quat_to_R(u):\n",
    "    [t1,t2,r1,r2] = [\n",
    "        2*np.pi*u[1],\n",
    "        2*np.pi*u[2],\n",
    "        torch.sqrt(1-u[0]),\n",
    "        torch.sqrt(u[0]),\n",
    "    ]\n",
    "\n",
    "    [w,x,y,z] = [\n",
    "        r2*torch.cos(t2),\n",
    "        r1*torch.sin(t1),\n",
    "        r1*torch.cos(t1),\n",
    "        r2*torch.sin(t2),\n",
    "    ]\n",
    "\n",
    "    R = torch.tensor([\n",
    "        [w*w + x*x - y*y - z*z,     2*(x*y-w*z),     2*(x*z+w*y)],\n",
    "        [          2*(x*y+w*z), w*w-x*x+y*y-z*z,   2*(y*z - w*x)],\n",
    "        [          2*(x*z-w*y),     2*(y*z+w*x), w*w-x*x-y*y+z*z],\n",
    "    ], dtype=torch.float32)\n",
    "    return R"
   ]
  },
  {
   "cell_type": "code",
   "execution_count": 30,
   "metadata": {},
   "outputs": [],
   "source": [
    "def model():\n",
    "    N = 50\n",
    "    # Prior over mean M, with N=number of atoms\n",
    "    M = pyro.sample(\"M\", dist.StudentT(1,0,3).expand_by([N,3]).to_event(2))\n",
    "    # Prior over variances U\n",
    "    U = pyro.sample(\"U\", dist.HalfNormal(1).expand_by([N]).to_event(1))\n",
    "    U = U.reshape(N,1).repeat(1,3).view(-1)\n",
    "    # Prior over translation T\n",
    "    T = pyro.sample(\"T\", dist.Normal(0,1).expand_by([3]).to_event(1))\n",
    "    # Prior over rotation R\n",
    "    u = pyro.sample(\"u\",dist.Uniform(0,1).expand_by([3]).to_event(1))\n",
    "    # Transformation: turn u via a unit quaternion into a rotation R\n",
    "    R = u_to_quat_to_R(u)\n",
    "    # Transformation: rotate and translate M for X2\n",
    "    M_RT = M @ R + T\n",
    "    # Likelihood\n",
    "    with pyro.plate(\"plate_students\", N*3,dim= -1):\n",
    "        pyro.sample(\"X1\", dist.StudentT(1, M.view(-1), U), obs=X1.view(-1))\n",
    "        pyro.sample(\"X2\", dist.StudentT(1, M_RT.view(-1), U), obs=X2.view(-1))"
   ]
  },
  {
   "cell_type": "code",
   "execution_count": 5,
   "metadata": {},
   "outputs": [],
   "source": [
    "from pyro.contrib.autoguide import AutoDelta\n",
    "from pyro.infer import Trace_ELBO\n",
    "from pyro.optim import Adam\n",
    "\n",
    "guide = AutoDelta(model)\n",
    "optim = Adam({'lr': 0.03})\n",
    "svi = pyro.infer.SVI(model, guide, optim, loss=Trace_ELBO())\n",
    "\n",
    "\n",
    "losses=[]\n",
    "for i in range(10000):\n",
    "    losses.append(svi.step())\n"
   ]
  },
  {
   "cell_type": "code",
   "execution_count": 6,
   "metadata": {},
   "outputs": [
    {
     "data": {
      "text/plain": [
       "[<matplotlib.lines.Line2D at 0x120a5e128>]"
      ]
     },
     "execution_count": 6,
     "metadata": {},
     "output_type": "execute_result"
    },
    {
     "data": {
      "image/png": "[encoded data removed]",
      "text/plain": [
       "<Figure size 432x288 with 1 Axes>"
      ]
     },
     "metadata": {},
     "output_type": "display_data"
    }
   ],
   "source": [
    "plot(losses)"
   ]
  },
  {
   "cell_type": "code",
   "execution_count": 9,
   "metadata": {},
   "outputs": [],
   "source": [
    "answer = guide()"
   ]
  },
  {
   "cell_type": "markdown",
   "metadata": {},
   "source": [
    "### Apply to a real protein\n",
    "\n",
    "I will grab two frames from an MD trajectory and use this method to align them."
   ]
  },
  {
   "cell_type": "code",
   "execution_count": 119,
   "metadata": {},
   "outputs": [],
   "source": [
    "import mdtraj\n",
    "\n",
    "# Input structures\n",
    "x1 = mdtraj.load(\"ref.pdb\")\n",
    "x2 = mdtraj.load(\"target.pdb\")\n",
    "\n",
    "# Placeholder trajectories for results\n",
    "mover = x1[0]\n",
    "m = x1[0]"
   ]
  },
  {
   "cell_type": "code",
   "execution_count": 120,
   "metadata": {},
   "outputs": [
    {
     "name": "stdout",
     "output_type": "stream",
     "text": [
      "tensor([[1.6271, 0.6045, 2.5373],\n",
      "        [1.5632, 0.7143, 2.4642],\n",
      "        [1.6662, 0.7874, 2.3812],\n",
      "        ...,\n",
      "        [4.8180, 2.6577, 2.7567],\n",
      "        [4.9805, 2.5987, 2.9811],\n",
      "        [4.9957, 2.7432, 2.8764]])\n"
     ]
    }
   ],
   "source": [
    "X1 = torch.tensor(x1.xyz[0], dtype=torch.float32)\n",
    "X2 = torch.tensor(x2.xyz[0], dtype=torch.float32)\n",
    "print(X1)"
   ]
  },
  {
   "cell_type": "code",
   "execution_count": 121,
   "metadata": {},
   "outputs": [],
   "source": [
    "N=1231\n",
    "def model2():\n",
    "    N=1231\n",
    "    # Prior over mean M, with N=number of atoms\n",
    "    M = pyro.sample(\"M\", dist.StudentT(1,0,3).expand_by([N,3]).to_event(2))\n",
    "    # Prior over variances U\n",
    "    U = pyro.sample(\"U\", dist.HalfNormal(1).expand_by([N]).to_event(1))\n",
    "    U = U.reshape(N,1).repeat(1,3).view(-1)\n",
    "    # Prior over translation T\n",
    "    T = pyro.sample(\"T\", dist.Normal(0,1).expand_by([3]).to_event(1))\n",
    "    # Prior over rotation R\n",
    "    u = pyro.sample(\"u\",dist.Uniform(0,1).expand_by([3]).to_event(1))\n",
    "    # Transformation: turn u via a unit quaternion into a rotation R\n",
    "    R = u_to_quat_to_R(u)\n",
    "    # Transformation: rotate and translate M for X2\n",
    "    M_RT = M @ R + T\n",
    "    \n",
    "    df = pyro.sample(\"df\", dist.LogNormal(10, 2))\n",
    "    \n",
    "    # Likelihood\n",
    "    with pyro.plate(\"plate_students\", N*3,dim= -1):\n",
    "        pyro.sample(\"X1\", dist.StudentT(df, M.view(-1), U), obs=X1.view(-1))\n",
    "        pyro.sample(\"X2\", dist.StudentT(df, M_RT.view(-1), U), obs=X2.view(-1))"
   ]
  },
  {
   "cell_type": "code",
   "execution_count": 109,
   "metadata": {},
   "outputs": [],
   "source": [
    "from pyro.contrib.autoguide import AutoDelta\n",
    "from pyro.infer import Trace_ELBO\n",
    "from pyro.optim import Adam, AdagradRMSProp\n",
    "\n",
    "guide2 = AutoDelta(model2)\n",
    "# optim2 = Adam({'lr': 0.01})\n",
    "# optim2 = AdagradRMSProp({'lr': 1.0, 'momentum':0.1, 'eps':1e-16})\n",
    "optim2 = AdagradRMSProp({})\n",
    "svi2 = pyro.infer.SVI(model2, guide2, optim2, loss=Trace_ELBO())\n",
    "\n",
    "\n",
    "losses=[]\n",
    "for i in range(2000):\n",
    "    losses.append(svi2.step())"
   ]
  },
  {
   "cell_type": "code",
   "execution_count": 110,
   "metadata": {},
   "outputs": [
    {
     "data": {
      "text/plain": [
       "[<matplotlib.lines.Line2D at 0x6198846d8>]"
      ]
     },
     "execution_count": 110,
     "metadata": {},
     "output_type": "execute_result"
    },
    {
     "data": {
      "image/png": "[encoded data removed]",
      "text/plain": [
       "<Figure size 432x288 with 1 Axes>"
      ]
     },
     "metadata": {},
     "output_type": "display_data"
    }
   ],
   "source": [
    "plot(losses)"
   ]
  },
  {
   "cell_type": "code",
   "execution_count": 111,
   "metadata": {},
   "outputs": [
    {
     "data": {
      "text/plain": [
       "tensor(0.4753, grad_fn=<ExpandBackward>)"
      ]
     },
     "execution_count": 111,
     "metadata": {},
     "output_type": "execute_result"
    }
   ],
   "source": [
    "answer = guide2()\n",
    "answer[\"df\"]"
   ]
  },
  {
   "cell_type": "code",
   "execution_count": 89,
   "metadata": {},
   "outputs": [],
   "source": [
    "moved = x1.xyz[0] @ u_to_quat_to_R(answer[\"u\"]).detach().numpy() + answer[\"T\"].detach().numpy()"
   ]
  },
  {
   "cell_type": "code",
   "execution_count": 90,
   "metadata": {},
   "outputs": [],
   "source": [
    "moved.xyz = moved\n",
    "moved.save(\"moved.pdb\")"
   ]
  },
  {
   "cell_type": "code",
   "execution_count": 91,
   "metadata": {},
   "outputs": [],
   "source": [
    "m.xyz = answer[\"M\"].detach().numpy()\n",
    "m.save(\"M.pdb\")"
   ]
  }
 ],
 "metadata": {
  "kernelspec": {
   "display_name": "Python 3",
   "language": "python",
   "name": "python3"
  },
  "language_info": {
   "codemirror_mode": {
    "name": "ipython",
    "version": 3
   },
   "file_extension": ".py",
   "mimetype": "text/x-python",
   "name": "python",
   "nbconvert_exporter": "python",
   "pygments_lexer": "ipython3",
   "version": "3.6.8"
  }
 },
 "nbformat": 4,
 "nbformat_minor": 2
}
