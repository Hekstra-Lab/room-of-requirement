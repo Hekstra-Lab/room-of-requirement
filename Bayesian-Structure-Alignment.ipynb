{
 "cells": [
  {
   "cell_type": "markdown",
   "metadata": {},
   "source": [
    "### Implementation of Bayesian structure alignment\n",
    "\n",
    "The goal of this notebook is to implement an algorithm to align two protein structures. This work is based heavily on the Pyro implementation of this problem published by Moreta et al (https://www.biorxiv.org/content/early/2019/06/04/575431.full.pdf). "
   ]
  },
  {
   "cell_type": "code",
   "execution_count": 2,
   "metadata": {},
   "outputs": [
    {
     "name": "stdout",
     "output_type": "stream",
     "text": [
      "Populating the interactive namespace from numpy and matplotlib\n"
     ]
    }
   ],
   "source": [
    "%pylab inline\n",
    "\n",
    "import torch\n",
    "import pyro\n",
    "import pyro.distributions as dist\n",
    "from pyro.infer import EmpiricalMarginal, SVI, TracePredictive\n",
    "from pyro.infer.mcmc import MCMC, NUTS"
   ]
  },
  {
   "cell_type": "code",
   "execution_count": 45,
   "metadata": {},
   "outputs": [],
   "source": [
    "atoms = 50\n",
    "iters = 1000\n",
    "X1 = np.random.random((atoms, 3))\n",
    "X2 = X1 + np.random.normal(0, 0.01, (atoms, 3))"
   ]
  },
  {
   "cell_type": "code",
   "execution_count": 63,
   "metadata": {},
   "outputs": [
    {
     "name": "stderr",
     "output_type": "stream",
     "text": [
      "/home/kmdalton/opt/anaconda3/lib/python3.7/site-packages/ipykernel_launcher.py:1: UserWarning: To copy construct from a tensor, it is recommended to use sourceTensor.clone().detach() or sourceTensor.clone().detach().requires_grad_(True), rather than torch.tensor(sourceTensor).\n",
      "  \"\"\"Entry point for launching an IPython kernel.\n"
     ]
    }
   ],
   "source": [
    "X1,X2 = torch.tensor(X1, dtype=torch.float32), torch.tensor(X2, dtype=torch.float32)"
   ]
  },
  {
   "cell_type": "code",
   "execution_count": 79,
   "metadata": {},
   "outputs": [],
   "source": [
    "def u_to_quat_to_R(u):\n",
    "    [t1,t2,r1,r2] = [\n",
    "        2*np.pi*u[1],\n",
    "        2*np.pi*u[2],\n",
    "        torch.sqrt(1-u[0]),\n",
    "        torch.sqrt(u[0]),\n",
    "    ]\n",
    "\n",
    "    [w,x,y,z] = [\n",
    "        r2*torch.cos(t2),\n",
    "        r1*torch.sin(t1),\n",
    "        r1*torch.cos(t1),\n",
    "        r2*torch.sin(t2),\n",
    "    ]\n",
    "\n",
    "    R = torch.tensor([\n",
    "        [w*w + x*x - y*y - z*z,     2*(x*y-w*z),     2*(x*z+w*y)],\n",
    "        [          2*(x*y+w*z), w*w-x*x+y*y-z*z,   2*(y*z - w*x)],\n",
    "        [          2*(x*z-w*y),     2*(y*z+w*x), w*w-x*x-y*y+z*z],\n",
    "    ], dtype=torch.float32)\n",
    "    return R\n",
    "\n",
    "\n",
    "def model():\n",
    "    N = 50\n",
    "    # Prior over mean M, with N=number of atoms\n",
    "    M = pyro.sample(\"M\", dist.StudentT(1,0,3).expand_by([N,3]).to_event(2))\n",
    "    # Prior over variances U\n",
    "    U = pyro.sample(\"U\", dist.HalfNormal(1).expand_by([N]).to_event(1))\n",
    "    U = U.reshape(N,1).repeat(1,3).view(-1)\n",
    "    # Prior over translation T\n",
    "    T = pyro.sample(\"T\", dist.Normal(0,1).expand_by([3]).to_event(1))\n",
    "    # Prior over rotation R\n",
    "    u = pyro.sample(\"u\",dist.Uniform(0,1).expand_by([3]).to_event(1))\n",
    "    # Transformation: turn u via a unit quaternion into a rotation R\n",
    "    R = u_to_quat_to_R(u)\n",
    "    # Transformation: rotate and translate M for X2\n",
    "    M_RT = M @ R + T\n",
    "    # Likelihood\n",
    "    with pyro.plate(\"plate_students\", N*3,dim= -1):\n",
    "        pyro.sample(\"X1\", dist.StudentT(1, M.view(-1), U), obs=X1.view(-1))\n",
    "        pyro.sample(\"X2\", dist.StudentT(1, M_RT.view(-1), U), obs=X2.view(-1))\n",
    "\n"
   ]
  },
  {
   "cell_type": "code",
   "execution_count": 81,
   "metadata": {},
   "outputs": [],
   "source": [
    "from pyro.contrib.autoguide import AutoDelta\n",
    "from pyro.infer import Trace_ELBO\n",
    "from pyro.optim import Adam\n",
    "\n",
    "guide = AutoDelta(model)\n",
    "optim = Adam({'lr': 0.03})\n",
    "svi = pyro.infer.SVI(model, guide, optim, loss=Trace_ELBO())\n",
    "\n",
    "\n",
    "losses=[]\n",
    "for i in range(10000):\n",
    "    losses.append(svi.step())\n"
   ]
  },
  {
   "cell_type": "code",
   "execution_count": 82,
   "metadata": {},
   "outputs": [
    {
     "data": {
      "text/plain": [
       "[<matplotlib.lines.Line2D at 0x7f4603248e48>]"
      ]
     },
     "execution_count": 82,
     "metadata": {},
     "output_type": "execute_result"
    },
    {
     "data": {
      "image/png": "[encoded data removed]",
      "text/plain": [
       "<Figure size 432x288 with 1 Axes>"
      ]
     },
     "metadata": {
      "needs_background": "light"
     },
     "output_type": "display_data"
    }
   ],
   "source": [
    "plot(losses)"
   ]
  },
  {
   "cell_type": "code",
   "execution_count": 86,
   "metadata": {},
   "outputs": [
    {
     "data": {
      "text/plain": [
       "{'M': tensor([[ 0.5461,  0.7078,  0.1148],\n",
       "         [ 0.1165,  0.9625,  0.2223],\n",
       "         [ 0.3314,  0.9107,  0.4774],\n",
       "         [-0.0137,  0.4866,  0.9087],\n",
       "         [ 0.4752,  0.0059,  0.1866],\n",
       "         [ 0.4490,  0.8559,  0.6988],\n",
       "         [ 0.5664,  0.5320,  0.4826],\n",
       "         [ 0.0108,  0.4986,  0.6278],\n",
       "         [ 0.1955,  0.1821,  0.5934],\n",
       "         [ 0.2233,  0.4540,  0.5475],\n",
       "         [ 0.6375,  0.4257,  0.2300],\n",
       "         [ 0.1791,  0.6150,  0.6696],\n",
       "         [ 0.6833,  0.7719,  0.6163],\n",
       "         [ 0.1017,  0.1594,  0.7168],\n",
       "         [ 0.0019,  0.5150,  0.8960],\n",
       "         [ 0.1055,  0.8528,  0.7662],\n",
       "         [-0.0024,  0.9212,  0.9465],\n",
       "         [ 0.0640,  0.1173,  0.8100],\n",
       "         [ 0.1894,  0.2069,  0.6508],\n",
       "         [ 0.2395,  0.8563,  0.3353],\n",
       "         [ 0.4908,  0.3391,  0.2333],\n",
       "         [ 0.3747,  0.3484,  0.3835],\n",
       "         [ 0.4232,  0.4842,  0.5058],\n",
       "         [ 0.0256,  0.6095,  0.9143],\n",
       "         [ 0.2735,  0.0672,  0.2581],\n",
       "         [ 0.0151,  0.9700,  0.0160],\n",
       "         [ 0.8972,  0.1480,  0.0891],\n",
       "         [ 0.5888,  0.9844,  0.7456],\n",
       "         [ 0.5401,  0.6674,  0.6027],\n",
       "         [ 0.5584,  0.8054,  0.1299],\n",
       "         [ 0.5759,  0.9521,  0.7625],\n",
       "         [ 0.0486,  0.1985,  0.4330],\n",
       "         [ 0.6452,  0.6496,  0.0128],\n",
       "         [ 0.3632,  0.7372,  0.2344],\n",
       "         [ 0.0727,  0.3560,  0.8098],\n",
       "         [-0.0595,  0.8444,  0.9787],\n",
       "         [-0.2062,  0.1233,  0.4694],\n",
       "         [ 0.0186,  0.1358,  0.8621],\n",
       "         [-0.1391,  0.1808,  0.4861],\n",
       "         [ 0.9013,  0.4097,  0.7832],\n",
       "         [ 0.1777,  0.7207,  0.7414],\n",
       "         [ 0.4613,  0.3300,  0.2590],\n",
       "         [-0.0769,  0.7234,  0.8305],\n",
       "         [ 0.5151,  0.1247,  0.1626],\n",
       "         [ 0.8671,  0.4818,  0.8282],\n",
       "         [ 0.6300,  0.6485,  0.0472],\n",
       "         [ 0.4599,  0.0919,  0.2222],\n",
       "         [ 0.4265,  0.3433,  0.4112],\n",
       "         [ 0.8386,  0.3342,  0.2406],\n",
       "         [ 0.0678,  0.8589,  0.8454]], grad_fn=<ExpandBackward>),\n",
       " 'U': tensor([0.0241, 0.0305, 0.0084, 0.0093, 0.0127, 0.0074, 0.0032, 0.0198, 0.0108,\n",
       "         0.0182, 0.0116, 0.0027, 0.0434, 0.0040, 0.0212, 0.0028, 0.0032, 0.0280,\n",
       "         0.0199, 0.0196, 0.0210, 0.0050, 0.0211, 0.0145, 0.0146, 0.0424, 0.0110,\n",
       "         0.0038, 0.0284, 0.0096, 0.0076, 0.0049, 0.0448, 0.0207, 0.0036, 0.0331,\n",
       "         0.0382, 0.0337, 0.0414, 0.0560, 0.0038, 0.0248, 0.0184, 0.0147, 0.0075,\n",
       "         0.0028, 0.0049, 0.0177, 0.0247, 0.0079], grad_fn=<ExpandBackward>),\n",
       " 'T': tensor([ 0.8775, -0.2653,  0.5944], grad_fn=<ExpandBackward>),\n",
       " 'u': tensor([0.6615, 0.9142, 0.4070], grad_fn=<ExpandBackward>)}"
      ]
     },
     "execution_count": 86,
     "metadata": {},
     "output_type": "execute_result"
    }
   ],
   "source": [
    "guide()"
   ]
  }
 ],
 "metadata": {
  "kernelspec": {
   "display_name": "Python 3",
   "language": "python",
   "name": "python3"
  },
  "language_info": {
   "codemirror_mode": {
    "name": "ipython",
    "version": 3
   },
   "file_extension": ".py",
   "mimetype": "text/x-python",
   "name": "python",
   "nbconvert_exporter": "python",
   "pygments_lexer": "ipython3",
   "version": "3.7.1"
  }
 },
 "nbformat": 4,
 "nbformat_minor": 2
}
